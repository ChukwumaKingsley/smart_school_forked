{
 "cells": [
  {
   "cell_type": "code",
   "execution_count": 38,
   "metadata": {},
   "outputs": [],
   "source": [
    "from exif import Image as Img\n",
    "import os\n",
    "import cv2\n",
    "from PIL import Image\n",
    "from PIL.ExifTags import TAGS\n",
    "from datetime import datetime\n",
    "import piexif\n",
    "import re\n"
   ]
  },
  {
   "cell_type": "code",
   "execution_count": 59,
   "metadata": {},
   "outputs": [],
   "source": [
    "path = \"C:/Users/Kingsley/Pictures/Outing\"\n",
    "files = os.listdir(path)"
   ]
  },
  {
   "cell_type": "code",
   "execution_count": 63,
   "metadata": {},
   "outputs": [
    {
     "name": "stdout",
     "output_type": "stream",
     "text": [
      "C:/Users/Kingsley/Pictures/Outing\\1686581325809.jpg\n"
     ]
    },
    {
     "ename": "FileNotFoundError",
     "evalue": "[Errno 2] No such file or directory: 'C:/Users/Kingsley/Pictures/Outing/IMG_20230608_1686581325809.jpg'",
     "output_type": "error",
     "traceback": [
      "\u001b[1;31m---------------------------------------------------------------------------\u001b[0m",
      "\u001b[1;31mFileNotFoundError\u001b[0m                         Traceback (most recent call last)",
      "Cell \u001b[1;32mIn [63], line 11\u001b[0m\n\u001b[0;32m      9\u001b[0m exif_dict[\u001b[39m'\u001b[39m\u001b[39mExif\u001b[39m\u001b[39m'\u001b[39m][piexif\u001b[39m.\u001b[39mExifIFD\u001b[39m.\u001b[39mDateTimeDigitized] \u001b[39m=\u001b[39m new_date\n\u001b[0;32m     10\u001b[0m exif_bytes \u001b[39m=\u001b[39m piexif\u001b[39m.\u001b[39mdump(exif_dict)\n\u001b[1;32m---> 11\u001b[0m piexif\u001b[39m.\u001b[39;49minsert(exif_bytes, path\u001b[39m+\u001b[39;49m\u001b[39m\"\u001b[39;49m\u001b[39m/IMG_20230608_\u001b[39;49m\u001b[39m\"\u001b[39;49m\u001b[39m+\u001b[39;49mfile)\n",
      "File \u001b[1;32m~\\AppData\\Local\\Packages\\PythonSoftwareFoundation.Python.3.10_qbz5n2kfra8p0\\LocalCache\\local-packages\\Python310\\site-packages\\piexif\\_insert.py:32\u001b[0m, in \u001b[0;36minsert\u001b[1;34m(exif, image, new_file)\u001b[0m\n\u001b[0;32m     30\u001b[0m     file_type \u001b[39m=\u001b[39m \u001b[39m\"\u001b[39m\u001b[39mwebp\u001b[39m\u001b[39m\"\u001b[39m\n\u001b[0;32m     31\u001b[0m \u001b[39melse\u001b[39;00m:\n\u001b[1;32m---> 32\u001b[0m     \u001b[39mwith\u001b[39;00m \u001b[39mopen\u001b[39;49m(image, \u001b[39m'\u001b[39;49m\u001b[39mrb\u001b[39;49m\u001b[39m'\u001b[39;49m) \u001b[39mas\u001b[39;00m f:\n\u001b[0;32m     33\u001b[0m         image_data \u001b[39m=\u001b[39m f\u001b[39m.\u001b[39mread()\n\u001b[0;32m     34\u001b[0m     \u001b[39mif\u001b[39;00m image_data[\u001b[39m0\u001b[39m:\u001b[39m2\u001b[39m] \u001b[39m==\u001b[39m \u001b[39mb\u001b[39m\u001b[39m\"\u001b[39m\u001b[39m\\xff\u001b[39;00m\u001b[39m\\xd8\u001b[39;00m\u001b[39m\"\u001b[39m:\n",
      "\u001b[1;31mFileNotFoundError\u001b[0m: [Errno 2] No such file or directory: 'C:/Users/Kingsley/Pictures/Outing/IMG_20230608_1686581325809.jpg'"
     ]
    }
   ],
   "source": [
    "for file in files:\n",
    "    file_path = os.path.join(path,file)\n",
    "    print(file_path)\n",
    "    filename = file_path\n",
    "    exif_dict = piexif.load(filename)\n",
    "    new_date = datetime(2023, 6, 8, 13, 0, 0).strftime(\"%Y:%m:%d %H:%M:%S\")\n",
    "    exif_dict['0th'][piexif.ImageIFD.DateTime] = new_date\n",
    "    exif_dict['Exif'][piexif.ExifIFD.DateTimeOriginal] = new_date\n",
    "    exif_dict['Exif'][piexif.ExifIFD.DateTimeDigitized] = new_date\n",
    "    exif_bytes = piexif.dump(exif_dict)\n",
    "    piexif.insert(exif_bytes, filename)"
   ]
  },
  {
   "cell_type": "code",
   "execution_count": 66,
   "metadata": {},
   "outputs": [],
   "source": [
    "for file in files:\n",
    "    os.rename(\"C:/Users/Kingsley/Pictures/Outing/\"+file, \"C:/Users/Kingsley/Pictures/Outing/\"+\"IMG_20230608_\"+file)"
   ]
  },
  {
   "cell_type": "code",
   "execution_count": 27,
   "metadata": {},
   "outputs": [
    {
     "name": "stdout",
     "output_type": "stream",
     "text": [
      "Cool Gorrila.jpg\n",
      "\n",
      "Dark windows.jpg\n",
      "\n",
      "FB_IMG_1677569954849.jpg\n",
      "\n",
      "FB_IMG_1677569966580.jpg\n",
      "\n",
      "IMG-20230324-WA0002.jpg\n",
      "\n",
      "IMG-20230324-WA0003.jpg\n",
      "\n",
      "IMG-20230324-WA0004.jpg\n",
      "\n",
      "Screenshot (1).png\n",
      "\n",
      "Screenshot (45).png\n",
      "\n",
      "Screenshot (46).png\n",
      "\n",
      "Screenshot (47).png\n",
      "\n",
      "Screenshot (48).png\n",
      "\n",
      "Screenshot (49).png\n",
      "\n",
      "Screenshot (50).png\n",
      "\n",
      "Screenshot (51).png\n",
      "\n",
      "Screenshot (52).png\n",
      "\n",
      "Screenshot 2023-03-16 173730.png\n",
      "\n",
      "Screenshot 2023-03-16 173925.png\n",
      "\n",
      "Screenshot 2023-04-21 221818.png\n",
      "\n",
      "Screenshot 2023-04-21 221846.png\n",
      "\n",
      "Screenshot 2023-04-29 154505.png\n",
      "\n",
      "Screenshot 2023-04-29 154618.png\n",
      "\n",
      "Screenshot 2023-04-29 154651.png\n",
      "\n",
      "Screenshot 2023-04-29 154834.png\n",
      "\n",
      "Screenshot 2023-04-30 003630.png\n",
      "\n",
      "Screenshot 2023-04-30 003749.png\n",
      "\n",
      "Screenshot 2023-04-30 122819.png\n",
      "\n",
      "Screenshot 2023-04-30 122838.png\n",
      "\n",
      "Screenshot 2023-04-30 134215.png\n",
      "\n",
      "Screenshot 2023-04-30 151641.png\n",
      "\n",
      "Screenshot 2023-05-01 085553.png\n",
      "\n",
      "Screenshot 2023-05-01 085927.png\n",
      "\n",
      "Screenshot 2023-05-01 091031.png\n",
      "\n",
      "Screenshot 2023-05-01 091144.png\n",
      "\n",
      "Screenshot 2023-05-01 125752.png\n",
      "\n",
      "Screenshot 2023-05-08 225634.png\n",
      "\n",
      "Screenshot 2023-05-20 131544.png\n",
      "\n",
      "Screenshot 2023-05-21 074223.png\n",
      "\n",
      "Screenshot 2023-05-21 074346.png\n",
      "\n",
      "Screenshot_20230116_033033.png\n",
      "\n",
      "Screenshot_20230116_033253.png\n",
      "\n",
      "Screenshot_20230118_052527.png\n",
      "\n",
      "Screenshot_20230220_055518.png\n",
      "\n"
     ]
    }
   ],
   "source": [
    "for file in files[:]:\n",
    "    file_path = os.path.join(path,file)\n",
    "    image = Image.open(file_path)\n",
    "    if not image.\n",
    "    exifdata = image.getexif()\n",
    "    for tag_id in exifdata:\n",
    "    # get the tag name, instead of human unreadable tag id\n",
    "        tag = TAGS.get(tag_id, tag_id)\n",
    "        data = exifdata.get(tag_id)\n",
    "    # decode bytes \n",
    "        if isinstance(data, bytes):\n",
    "            data = data.decode()\n",
    "        print(f\"{tag:25}: {data}\")\n",
    "\n",
    "    print()"
   ]
  },
  {
   "cell_type": "code",
   "execution_count": 35,
   "metadata": {},
   "outputs": [
    {
     "ename": "UnpackError",
     "evalue": "\n\n+--------+------------+-------+-------+------------------------+\n| Offset | Access     | Value | Bytes | Format                 |\n+--------+------------+-------+-------+------------------------+\n|        |            |       |       | TiffHeader (Structure) |\n| 0      | byte_order | 36242 | 8d 92 | tiff_byte_order        |\n+--------+------------+-------+-------+------------------------+\n\nValueError occurred during unpack operation:\n\n36242 is not a valid TiffByteOrder",
     "output_type": "error",
     "traceback": [
      "\u001b[1;31m---------------------------------------------------------------------------\u001b[0m",
      "\u001b[1;31mValueError\u001b[0m                                Traceback (most recent call last)",
      "File \u001b[1;32m~\\AppData\\Local\\Packages\\PythonSoftwareFoundation.Python.3.10_qbz5n2kfra8p0\\LocalCache\\local-packages\\Python310\\site-packages\\plum\\buffer.py:30\u001b[0m, in \u001b[0;36mBuffer.unpack\u001b[1;34m(self, fmt)\u001b[0m\n\u001b[0;32m     28\u001b[0m \u001b[39mtry\u001b[39;00m:\n\u001b[0;32m     29\u001b[0m     \u001b[39m# None -> dump\u001b[39;00m\n\u001b[1;32m---> 30\u001b[0m     value, \u001b[39mself\u001b[39m\u001b[39m.\u001b[39moffset \u001b[39m=\u001b[39m items\u001b[39m.\u001b[39;49m__unpack__(\u001b[39mself\u001b[39;49m, \u001b[39mself\u001b[39;49m\u001b[39m.\u001b[39;49moffset, \u001b[39mNone\u001b[39;49;00m, fmt)\n\u001b[0;32m     31\u001b[0m \u001b[39mexcept\u001b[39;00m \u001b[39mException\u001b[39;00m \u001b[39mas\u001b[39;00m exc:\n\u001b[0;32m     32\u001b[0m     \u001b[39m# do it over to include dump in exception message\u001b[39;00m\n",
      "File \u001b[1;32m~\\AppData\\Local\\Packages\\PythonSoftwareFoundation.Python.3.10_qbz5n2kfra8p0\\LocalCache\\local-packages\\Python310\\site-packages\\plum\\items.py:388\u001b[0m, in \u001b[0;36mItemsX.__unpack__\u001b[1;34m(self, buffer, offset, dump, fmt)\u001b[0m\n\u001b[0;32m    386\u001b[0m     \u001b[39mreturn\u001b[39;00m dict_value, offset\n\u001b[1;32m--> 388\u001b[0m \u001b[39mreturn\u001b[39;00m fmt\u001b[39m.\u001b[39;49m__unpack__(buffer, offset)\n",
      "File \u001b[1;32m<string>:59\u001b[0m, in \u001b[0;36m__unpack__\u001b[1;34m(cls, buffer, offset, dump)\u001b[0m\n",
      "File \u001b[1;32m~\\AppData\\Local\\Packages\\PythonSoftwareFoundation.Python.3.10_qbz5n2kfra8p0\\LocalCache\\local-packages\\Python310\\site-packages\\plum\\enum.py:108\u001b[0m, in \u001b[0;36mEnumX.__unpack__\u001b[1;34m(self, buffer, offset, dump)\u001b[0m\n\u001b[0;32m    107\u001b[0m \u001b[39mtry\u001b[39;00m:\n\u001b[1;32m--> 108\u001b[0m     \u001b[39mreturn\u001b[39;00m enum(value), end\n\u001b[0;32m    109\u001b[0m \u001b[39mexcept\u001b[39;00m \u001b[39mValueError\u001b[39;00m:\n",
      "File \u001b[1;32mC:\\Program Files\\WindowsApps\\PythonSoftwareFoundation.Python.3.10_3.10.3056.0_x64__qbz5n2kfra8p0\\lib\\enum.py:385\u001b[0m, in \u001b[0;36mEnumMeta.__call__\u001b[1;34m(cls, value, names, module, qualname, type, start)\u001b[0m\n\u001b[0;32m    384\u001b[0m \u001b[39mif\u001b[39;00m names \u001b[39mis\u001b[39;00m \u001b[39mNone\u001b[39;00m:  \u001b[39m# simple value lookup\u001b[39;00m\n\u001b[1;32m--> 385\u001b[0m     \u001b[39mreturn\u001b[39;00m \u001b[39mcls\u001b[39;49m\u001b[39m.\u001b[39;49m\u001b[39m__new__\u001b[39;49m(\u001b[39mcls\u001b[39;49m, value)\n\u001b[0;32m    386\u001b[0m \u001b[39m# otherwise, functional API: we're creating a new Enum type\u001b[39;00m\n",
      "File \u001b[1;32mC:\\Program Files\\WindowsApps\\PythonSoftwareFoundation.Python.3.10_3.10.3056.0_x64__qbz5n2kfra8p0\\lib\\enum.py:710\u001b[0m, in \u001b[0;36mEnum.__new__\u001b[1;34m(cls, value)\u001b[0m\n\u001b[0;32m    709\u001b[0m \u001b[39mif\u001b[39;00m result \u001b[39mis\u001b[39;00m \u001b[39mNone\u001b[39;00m \u001b[39mand\u001b[39;00m exc \u001b[39mis\u001b[39;00m \u001b[39mNone\u001b[39;00m:\n\u001b[1;32m--> 710\u001b[0m     \u001b[39mraise\u001b[39;00m ve_exc\n\u001b[0;32m    711\u001b[0m \u001b[39melif\u001b[39;00m exc \u001b[39mis\u001b[39;00m \u001b[39mNone\u001b[39;00m:\n",
      "\u001b[1;31mValueError\u001b[0m: 36242 is not a valid TiffByteOrder",
      "\nDuring handling of the above exception, another exception occurred:\n",
      "\u001b[1;31mValueError\u001b[0m                                Traceback (most recent call last)",
      "File \u001b[1;32m~\\AppData\\Local\\Packages\\PythonSoftwareFoundation.Python.3.10_qbz5n2kfra8p0\\LocalCache\\local-packages\\Python310\\site-packages\\plum\\buffer.py:50\u001b[0m, in \u001b[0;36mBuffer.unpack_and_dump\u001b[1;34m(self, fmt)\u001b[0m\n\u001b[0;32m     48\u001b[0m \u001b[39mtry\u001b[39;00m:\n\u001b[0;32m     49\u001b[0m     \u001b[39m# empty record added so so pack always called with a Record instance\u001b[39;00m\n\u001b[1;32m---> 50\u001b[0m     value, \u001b[39mself\u001b[39m\u001b[39m.\u001b[39moffset \u001b[39m=\u001b[39m items\u001b[39m.\u001b[39;49m__unpack__(\u001b[39mself\u001b[39;49m, offset, dump\u001b[39m.\u001b[39;49madd_record(), fmt)\n\u001b[0;32m     51\u001b[0m \u001b[39mexcept\u001b[39;00m \u001b[39mException\u001b[39;00m \u001b[39mas\u001b[39;00m exc:\n",
      "File \u001b[1;32m~\\AppData\\Local\\Packages\\PythonSoftwareFoundation.Python.3.10_qbz5n2kfra8p0\\LocalCache\\local-packages\\Python310\\site-packages\\plum\\items.py:361\u001b[0m, in \u001b[0;36mItemsX.__unpack__\u001b[1;34m(self, buffer, offset, dump, fmt)\u001b[0m\n\u001b[0;32m    360\u001b[0m \u001b[39mif\u001b[39;00m dump \u001b[39mis\u001b[39;00m \u001b[39mnot\u001b[39;00m \u001b[39mNone\u001b[39;00m:\n\u001b[1;32m--> 361\u001b[0m     \u001b[39mreturn\u001b[39;00m \u001b[39mself\u001b[39;49m\u001b[39m.\u001b[39;49m__unpack_and_dump__(buffer, offset, dump, fmt)\n\u001b[0;32m    363\u001b[0m \u001b[39mif\u001b[39;00m fmt \u001b[39mis\u001b[39;00m Default\u001b[39m.\u001b[39mUNSPECIFIED:\n",
      "File \u001b[1;32m~\\AppData\\Local\\Packages\\PythonSoftwareFoundation.Python.3.10_qbz5n2kfra8p0\\LocalCache\\local-packages\\Python310\\site-packages\\plum\\items.py:435\u001b[0m, in \u001b[0;36mItemsX.__unpack_and_dump__\u001b[1;34m(self, buffer, offset, dump, fmt)\u001b[0m\n\u001b[0;32m    434\u001b[0m     dump\u001b[39m.\u001b[39mfmt \u001b[39m=\u001b[39m fmt\u001b[39m.\u001b[39mname\n\u001b[1;32m--> 435\u001b[0m     \u001b[39mreturn\u001b[39;00m fmt\u001b[39m.\u001b[39;49m__unpack__(buffer, offset, dump)\n\u001b[0;32m    437\u001b[0m dump\u001b[39m.\u001b[39mfmt \u001b[39m=\u001b[39m \u001b[39mstr\u001b[39m(fmt)\n",
      "File \u001b[1;32m<string>:68\u001b[0m, in \u001b[0;36m__unpack__\u001b[1;34m(cls, buffer, offset, dump)\u001b[0m\n",
      "File \u001b[1;32m~\\AppData\\Local\\Packages\\PythonSoftwareFoundation.Python.3.10_qbz5n2kfra8p0\\LocalCache\\local-packages\\Python310\\site-packages\\plum\\enum.py:118\u001b[0m, in \u001b[0;36mEnumX.__unpack__\u001b[1;34m(self, buffer, offset, dump)\u001b[0m\n\u001b[0;32m    117\u001b[0m \u001b[39mtry\u001b[39;00m:\n\u001b[1;32m--> 118\u001b[0m     value \u001b[39m=\u001b[39m enum(value)\n\u001b[0;32m    119\u001b[0m \u001b[39mexcept\u001b[39;00m \u001b[39mValueError\u001b[39;00m:\n",
      "File \u001b[1;32mC:\\Program Files\\WindowsApps\\PythonSoftwareFoundation.Python.3.10_3.10.3056.0_x64__qbz5n2kfra8p0\\lib\\enum.py:385\u001b[0m, in \u001b[0;36mEnumMeta.__call__\u001b[1;34m(cls, value, names, module, qualname, type, start)\u001b[0m\n\u001b[0;32m    384\u001b[0m \u001b[39mif\u001b[39;00m names \u001b[39mis\u001b[39;00m \u001b[39mNone\u001b[39;00m:  \u001b[39m# simple value lookup\u001b[39;00m\n\u001b[1;32m--> 385\u001b[0m     \u001b[39mreturn\u001b[39;00m \u001b[39mcls\u001b[39;49m\u001b[39m.\u001b[39;49m\u001b[39m__new__\u001b[39;49m(\u001b[39mcls\u001b[39;49m, value)\n\u001b[0;32m    386\u001b[0m \u001b[39m# otherwise, functional API: we're creating a new Enum type\u001b[39;00m\n",
      "File \u001b[1;32mC:\\Program Files\\WindowsApps\\PythonSoftwareFoundation.Python.3.10_3.10.3056.0_x64__qbz5n2kfra8p0\\lib\\enum.py:710\u001b[0m, in \u001b[0;36mEnum.__new__\u001b[1;34m(cls, value)\u001b[0m\n\u001b[0;32m    709\u001b[0m \u001b[39mif\u001b[39;00m result \u001b[39mis\u001b[39;00m \u001b[39mNone\u001b[39;00m \u001b[39mand\u001b[39;00m exc \u001b[39mis\u001b[39;00m \u001b[39mNone\u001b[39;00m:\n\u001b[1;32m--> 710\u001b[0m     \u001b[39mraise\u001b[39;00m ve_exc\n\u001b[0;32m    711\u001b[0m \u001b[39melif\u001b[39;00m exc \u001b[39mis\u001b[39;00m \u001b[39mNone\u001b[39;00m:\n",
      "\u001b[1;31mValueError\u001b[0m: 36242 is not a valid TiffByteOrder",
      "\nThe above exception was the direct cause of the following exception:\n",
      "\u001b[1;31mUnpackError\u001b[0m                               Traceback (most recent call last)",
      "Cell \u001b[1;32mIn [35], line 5\u001b[0m\n\u001b[0;32m      3\u001b[0m img \u001b[39m=\u001b[39m cv2\u001b[39m.\u001b[39mimread(file_path)\n\u001b[0;32m      4\u001b[0m \u001b[39mwith\u001b[39;00m \u001b[39mopen\u001b[39m(file_path, \u001b[39m'\u001b[39m\u001b[39mrb\u001b[39m\u001b[39m'\u001b[39m) \u001b[39mas\u001b[39;00m img_file:\n\u001b[1;32m----> 5\u001b[0m     img \u001b[39m=\u001b[39m Img(img_file)\n\u001b[0;32m      6\u001b[0m     \u001b[39mif\u001b[39;00m \u001b[39mnot\u001b[39;00m img\u001b[39m.\u001b[39mhas_exif:\n\u001b[0;32m      7\u001b[0m         \u001b[39mcontinue\u001b[39;00m\n",
      "File \u001b[1;32m~\\AppData\\Local\\Packages\\PythonSoftwareFoundation.Python.3.10_qbz5n2kfra8p0\\LocalCache\\local-packages\\Python310\\site-packages\\exif\\_image.py:82\u001b[0m, in \u001b[0;36mImage.__init__\u001b[1;34m(self, img_file)\u001b[0m\n\u001b[0;32m     79\u001b[0m \u001b[39melse\u001b[39;00m:  \u001b[39m# pragma: no cover\u001b[39;00m\n\u001b[0;32m     80\u001b[0m     \u001b[39mraise\u001b[39;00m \u001b[39mValueError\u001b[39;00m(\u001b[39m\"\u001b[39m\u001b[39mexpected file object, file path as str, or bytes\u001b[39m\u001b[39m\"\u001b[39m)\n\u001b[1;32m---> 82\u001b[0m \u001b[39mself\u001b[39;49m\u001b[39m.\u001b[39;49m_parse_segments(img_bytes)\n",
      "File \u001b[1;32m~\\AppData\\Local\\Packages\\PythonSoftwareFoundation.Python.3.10_qbz5n2kfra8p0\\LocalCache\\local-packages\\Python310\\site-packages\\exif\\_image.py:57\u001b[0m, in \u001b[0;36mImage._parse_segments\u001b[1;34m(self, img_bytes)\u001b[0m\n\u001b[0;32m     53\u001b[0m             \u001b[39mbreak\u001b[39;00m\n\u001b[0;32m     55\u001b[0m \u001b[39mif\u001b[39;00m \u001b[39mself\u001b[39m\u001b[39m.\u001b[39m_has_exif:\n\u001b[0;32m     56\u001b[0m     \u001b[39m# Instantiate an APP1 segment object to create an EXIF tag interface.\u001b[39;00m\n\u001b[1;32m---> 57\u001b[0m     \u001b[39mself\u001b[39m\u001b[39m.\u001b[39m_segments[\u001b[39m\"\u001b[39m\u001b[39mAPP1\u001b[39m\u001b[39m\"\u001b[39m] \u001b[39m=\u001b[39m App1MetaData(img_bytes[app1_start_index:cursor])\n\u001b[0;32m     58\u001b[0m     \u001b[39mself\u001b[39m\u001b[39m.\u001b[39m_segments[\u001b[39m\"\u001b[39m\u001b[39msucceeding\u001b[39m\u001b[39m\"\u001b[39m] \u001b[39m=\u001b[39m img_bytes[cursor:]\n\u001b[0;32m     59\u001b[0m \u001b[39melse\u001b[39;00m:\n\u001b[0;32m     60\u001b[0m     \u001b[39m# Store the remainder of the image so that it can be reconstructed when exporting.\u001b[39;00m\n",
      "File \u001b[1;32m~\\AppData\\Local\\Packages\\PythonSoftwareFoundation.Python.3.10_qbz5n2kfra8p0\\LocalCache\\local-packages\\Python310\\site-packages\\exif\\_app1_metadata.py:568\u001b[0m, in \u001b[0;36mApp1MetaData.__init__\u001b[1;34m(self, segment_bytes)\u001b[0m\n\u001b[0;32m    565\u001b[0m \u001b[39mself\u001b[39m\u001b[39m.\u001b[39mtag_parent_ifd \u001b[39m=\u001b[39m {}\n\u001b[0;32m    566\u001b[0m \u001b[39mself\u001b[39m\u001b[39m.\u001b[39mthumbnail_bytes \u001b[39m=\u001b[39m \u001b[39mNone\u001b[39;00m\n\u001b[1;32m--> 568\u001b[0m \u001b[39mself\u001b[39;49m\u001b[39m.\u001b[39;49m_parse_ifd_segments()\n\u001b[0;32m    569\u001b[0m \u001b[39mself\u001b[39m\u001b[39m.\u001b[39m_extract_thumbnail()\n",
      "File \u001b[1;32m~\\AppData\\Local\\Packages\\PythonSoftwareFoundation.Python.3.10_qbz5n2kfra8p0\\LocalCache\\local-packages\\Python310\\site-packages\\exif\\_app1_metadata.py:507\u001b[0m, in \u001b[0;36mApp1MetaData._parse_ifd_segments\u001b[1;34m(self)\u001b[0m\n\u001b[0;32m    505\u001b[0m \u001b[39mdef\u001b[39;00m \u001b[39m_parse_ifd_segments\u001b[39m(\u001b[39mself\u001b[39m):\n\u001b[0;32m    506\u001b[0m     body_bytes_buffer \u001b[39m=\u001b[39m Buffer(\u001b[39mself\u001b[39m\u001b[39m.\u001b[39mbody_bytes)\n\u001b[1;32m--> 507\u001b[0m     tiff_header \u001b[39m=\u001b[39m body_bytes_buffer\u001b[39m.\u001b[39;49munpack(TiffHeader)\n\u001b[0;32m    508\u001b[0m     \u001b[39mself\u001b[39m\u001b[39m.\u001b[39mendianness \u001b[39m=\u001b[39m tiff_header\u001b[39m.\u001b[39mbyte_order\n\u001b[0;32m    510\u001b[0m     current_ifd \u001b[39m=\u001b[39m \u001b[39m0\u001b[39m\n",
      "File \u001b[1;32m~\\AppData\\Local\\Packages\\PythonSoftwareFoundation.Python.3.10_qbz5n2kfra8p0\\LocalCache\\local-packages\\Python310\\site-packages\\plum\\buffer.py:33\u001b[0m, in \u001b[0;36mBuffer.unpack\u001b[1;34m(self, fmt)\u001b[0m\n\u001b[0;32m     30\u001b[0m     value, \u001b[39mself\u001b[39m\u001b[39m.\u001b[39moffset \u001b[39m=\u001b[39m items\u001b[39m.\u001b[39m__unpack__(\u001b[39mself\u001b[39m, \u001b[39mself\u001b[39m\u001b[39m.\u001b[39moffset, \u001b[39mNone\u001b[39;00m, fmt)\n\u001b[0;32m     31\u001b[0m \u001b[39mexcept\u001b[39;00m \u001b[39mException\u001b[39;00m \u001b[39mas\u001b[39;00m exc:\n\u001b[0;32m     32\u001b[0m     \u001b[39m# do it over to include dump in exception message\u001b[39;00m\n\u001b[1;32m---> 33\u001b[0m     \u001b[39mself\u001b[39;49m\u001b[39m.\u001b[39;49munpack_and_dump(fmt)\n\u001b[0;32m     34\u001b[0m     \u001b[39mraise\u001b[39;00m ImplementationError() \u001b[39mfrom\u001b[39;00m \u001b[39mexc\u001b[39;00m  \u001b[39m# pragma: no cover\u001b[39;00m\n\u001b[0;32m     36\u001b[0m \u001b[39mreturn\u001b[39;00m value\n",
      "File \u001b[1;32m~\\AppData\\Local\\Packages\\PythonSoftwareFoundation.Python.3.10_qbz5n2kfra8p0\\LocalCache\\local-packages\\Python310\\site-packages\\plum\\buffer.py:53\u001b[0m, in \u001b[0;36mBuffer.unpack_and_dump\u001b[1;34m(self, fmt)\u001b[0m\n\u001b[0;32m     51\u001b[0m \u001b[39mexcept\u001b[39;00m \u001b[39mException\u001b[39;00m \u001b[39mas\u001b[39;00m exc:\n\u001b[0;32m     52\u001b[0m     dump\u001b[39m.\u001b[39mtrim_blank_record()\n\u001b[1;32m---> 53\u001b[0m     \u001b[39mraise\u001b[39;00m UnpackError(dump, exc) \u001b[39mfrom\u001b[39;00m \u001b[39mexc\u001b[39;00m\n\u001b[0;32m     55\u001b[0m dump\u001b[39m.\u001b[39mtrim_blank_record()\n\u001b[0;32m     57\u001b[0m \u001b[39mreturn\u001b[39;00m value, dump\n",
      "\u001b[1;31mUnpackError\u001b[0m: \n\n+--------+------------+-------+-------+------------------------+\n| Offset | Access     | Value | Bytes | Format                 |\n+--------+------------+-------+-------+------------------------+\n|        |            |       |       | TiffHeader (Structure) |\n| 0      | byte_order | 36242 | 8d 92 | tiff_byte_order        |\n+--------+------------+-------+-------+------------------------+\n\nValueError occurred during unpack operation:\n\n36242 is not a valid TiffByteOrder"
     ]
    }
   ],
   "source": [
    "for file in files:\n",
    "    file_path = os.path.join(path,file)\n",
    "    img = cv2.imread(file_path)\n",
    "    with open(file_path, 'rb') as img_file:\n",
    "        img = Img(img_file)\n",
    "        print(file, img.has_exif)\n",
    "    with open('C:/Users/Kingsley/Pictures/EditedSamplePics/'+file, 'wb') as new_image_file:\n",
    "        new_image_file.write(img.get_file())"
   ]
  },
  {
   "cell_type": "code",
   "execution_count": 64,
   "metadata": {},
   "outputs": [
    {
     "name": "stdout",
     "output_type": "stream",
     "text": [
      "['ExifIFD', 'GPSIFD', 'ImageIFD', 'InteropIFD', 'InvalidImageDataError', 'TAGS', 'TYPES', 'VERSION', '__builtins__', '__cached__', '__doc__', '__file__', '__loader__', '__name__', '__package__', '__path__', '__spec__', '_common', '_dump', '_exceptions', '_exif', '_insert', '_load', '_remove', '_transplant', '_webp', 'dump', 'insert', 'load', 'remove', 'transplant']\n"
     ]
    }
   ],
   "source": [
    "print(dir(piexif))"
   ]
  }
 ],
 "metadata": {
  "kernelspec": {
   "display_name": "Python 3",
   "language": "python",
   "name": "python3"
  },
  "language_info": {
   "codemirror_mode": {
    "name": "ipython",
    "version": 3
   },
   "file_extension": ".py",
   "mimetype": "text/x-python",
   "name": "python",
   "nbconvert_exporter": "python",
   "pygments_lexer": "ipython3",
   "version": "3.10.11 (tags/v3.10.11:7d4cc5a, Apr  5 2023, 00:38:17) [MSC v.1929 64 bit (AMD64)]"
  },
  "orig_nbformat": 4,
  "vscode": {
   "interpreter": {
    "hash": "a68bdf61229ccb2adb72c5b868d90c8b98ab7a491fa60b527a6ec74bb1c98fad"
   }
  }
 },
 "nbformat": 4,
 "nbformat_minor": 2
}
